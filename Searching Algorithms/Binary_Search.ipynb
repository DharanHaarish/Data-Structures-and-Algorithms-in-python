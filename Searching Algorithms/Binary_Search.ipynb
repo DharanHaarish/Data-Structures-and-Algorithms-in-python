{
  "nbformat": 4,
  "nbformat_minor": 0,
  "metadata": {
    "colab": {
      "name": "Binary Search.ipynb",
      "provenance": []
    },
    "kernelspec": {
      "name": "python3",
      "display_name": "Python 3"
    },
    "language_info": {
      "name": "python"
    }
  },
  "cells": [
    {
      "cell_type": "code",
      "execution_count": 31,
      "metadata": {
        "id": "R7XTQc1eYkJ7"
      },
      "outputs": [],
      "source": [
        "def bnsearch(x,data):    #Implementation of Binary Search without Recursion\n",
        "  \n",
        "  l_idx = 0\n",
        "  r_idx = len(x)-1\n",
        "\n",
        "  while(l_idx<=r_idx):\n",
        "    m_idx = (l_idx + r_idx)//2\n",
        "\n",
        "    if(x[m_idx] == data):\n",
        "      return(\"The element is found in the index {}\".format(m_idx))\n",
        "\n",
        "    elif(x[m_idx] > data):\n",
        "      r_idx = m_idx-1\n",
        "\n",
        "    else:\n",
        "      l_idx = m_idx+1\n",
        "\n",
        "  return(\"The element is not in this array\")"
      ]
    },
    {
      "cell_type": "code",
      "source": [
        "box = [2,3,7,9,10]\n",
        "bnsearch(box,7)"
      ],
      "metadata": {
        "colab": {
          "base_uri": "https://localhost:8080/",
          "height": 35
        },
        "id": "2_67trC1Z8is",
        "outputId": "fe5cb476-3452-40c4-d086-696d2bce5591"
      },
      "execution_count": 32,
      "outputs": [
        {
          "output_type": "execute_result",
          "data": {
            "text/plain": [
              "'The element is found in the index 2'"
            ],
            "application/vnd.google.colaboratory.intrinsic+json": {
              "type": "string"
            }
          },
          "metadata": {},
          "execution_count": 32
        }
      ]
    },
    {
      "cell_type": "code",
      "source": [
        "bnsearch(box,3)"
      ],
      "metadata": {
        "colab": {
          "base_uri": "https://localhost:8080/",
          "height": 35
        },
        "id": "vcN5A72raEqH",
        "outputId": "ea69231d-21ad-4571-c343-bc28fe6e4dad"
      },
      "execution_count": 33,
      "outputs": [
        {
          "output_type": "execute_result",
          "data": {
            "text/plain": [
              "'The element is found in the index 1'"
            ],
            "application/vnd.google.colaboratory.intrinsic+json": {
              "type": "string"
            }
          },
          "metadata": {},
          "execution_count": 33
        }
      ]
    },
    {
      "cell_type": "code",
      "source": [
        "bnsearch(box,11)"
      ],
      "metadata": {
        "colab": {
          "base_uri": "https://localhost:8080/",
          "height": 35
        },
        "id": "n1gREX0xaRw3",
        "outputId": "ea335d49-41fa-44aa-ff69-2c155b9c6f49"
      },
      "execution_count": 34,
      "outputs": [
        {
          "output_type": "execute_result",
          "data": {
            "text/plain": [
              "'The element is not in this array'"
            ],
            "application/vnd.google.colaboratory.intrinsic+json": {
              "type": "string"
            }
          },
          "metadata": {},
          "execution_count": 34
        }
      ]
    },
    {
      "cell_type": "code",
      "source": [
        "bnsearch(box,10)"
      ],
      "metadata": {
        "colab": {
          "base_uri": "https://localhost:8080/",
          "height": 35
        },
        "id": "yimjMFHuwMRz",
        "outputId": "5ff63ffa-7709-45a5-cedf-da613f316443"
      },
      "execution_count": 35,
      "outputs": [
        {
          "output_type": "execute_result",
          "data": {
            "text/plain": [
              "'The element is found in the index 4'"
            ],
            "application/vnd.google.colaboratory.intrinsic+json": {
              "type": "string"
            }
          },
          "metadata": {},
          "execution_count": 35
        }
      ]
    },
    {
      "cell_type": "code",
      "source": [
        "def bnsearchrec(x,data,l_idx,r_idx):  #Implementation of Binary Search with Recursion\n",
        "\n",
        "  if l_idx<=r_idx:\n",
        "    m_idx = (l_idx + r_idx)//2\n",
        "\n",
        "    if(x[m_idx] == data):\n",
        "      return(\"The element is found in the index {}\".format(m_idx))\n",
        "\n",
        "    elif(x[m_idx]>data):\n",
        "      r_idx = m_idx-1\n",
        "      return(bnsearchrec(x,data,l_idx,r_idx))\n",
        "\n",
        "    else:\n",
        "      l_idx = m_idx+1\n",
        "      return(bnsearchrec(x,data,l_idx,r_idx))\n",
        "\n",
        "  else:\n",
        "    return(\"The element is not in this array\")"
      ],
      "metadata": {
        "id": "aB9sepg4wkcV"
      },
      "execution_count": 36,
      "outputs": []
    },
    {
      "cell_type": "code",
      "source": [
        "bnsearchrec(box,3,0,len(box)-1)"
      ],
      "metadata": {
        "colab": {
          "base_uri": "https://localhost:8080/",
          "height": 35
        },
        "id": "3ta2_rd0yUdJ",
        "outputId": "ae6b3aad-8a75-4ebb-bb07-13379c5cb491"
      },
      "execution_count": 37,
      "outputs": [
        {
          "output_type": "execute_result",
          "data": {
            "text/plain": [
              "'The element is found in the index 1'"
            ],
            "application/vnd.google.colaboratory.intrinsic+json": {
              "type": "string"
            }
          },
          "metadata": {},
          "execution_count": 37
        }
      ]
    },
    {
      "cell_type": "code",
      "source": [
        "bnsearchrec(box,21,0,len(box)-1)"
      ],
      "metadata": {
        "colab": {
          "base_uri": "https://localhost:8080/",
          "height": 35
        },
        "id": "Am3wkSYZyjBr",
        "outputId": "46669f24-ff52-49a8-9521-bb919ad6bc35"
      },
      "execution_count": 38,
      "outputs": [
        {
          "output_type": "execute_result",
          "data": {
            "text/plain": [
              "'The element is not in this array'"
            ],
            "application/vnd.google.colaboratory.intrinsic+json": {
              "type": "string"
            }
          },
          "metadata": {},
          "execution_count": 38
        }
      ]
    },
    {
      "cell_type": "code",
      "source": [
        "bnsearchrec(box,9,0,len(box)-1)"
      ],
      "metadata": {
        "colab": {
          "base_uri": "https://localhost:8080/",
          "height": 35
        },
        "id": "lc311Bmayzxv",
        "outputId": "64ad182a-e64f-4913-fd98-fdee80869b3e"
      },
      "execution_count": 39,
      "outputs": [
        {
          "output_type": "execute_result",
          "data": {
            "text/plain": [
              "'The element is found in the index 3'"
            ],
            "application/vnd.google.colaboratory.intrinsic+json": {
              "type": "string"
            }
          },
          "metadata": {},
          "execution_count": 39
        }
      ]
    }
  ]
}