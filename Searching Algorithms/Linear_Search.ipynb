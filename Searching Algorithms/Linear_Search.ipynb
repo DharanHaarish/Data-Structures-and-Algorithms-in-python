{
  "nbformat": 4,
  "nbformat_minor": 0,
  "metadata": {
    "colab": {
      "name": "Linear Search.ipynb",
      "provenance": []
    },
    "kernelspec": {
      "name": "python3",
      "display_name": "Python 3"
    },
    "language_info": {
      "name": "python"
    }
  },
  "cells": [
    {
      "cell_type": "code",
      "execution_count": 1,
      "metadata": {
        "id": "OUAWmYSx0b28"
      },
      "outputs": [],
      "source": [
        "def lsearch(x,data):\n",
        "  for i in range(len(x)):\n",
        "    if(x[i]==data):\n",
        "      return(\"The element is found in the index {}\".format(i))\n",
        "\n",
        "  return(\"The element is not in this array\")"
      ]
    },
    {
      "cell_type": "code",
      "source": [
        "box = [2,4,7,35,79,100]\n",
        "lsearch(box,35)"
      ],
      "metadata": {
        "colab": {
          "base_uri": "https://localhost:8080/",
          "height": 35
        },
        "id": "3Z_ZsB1I1aKO",
        "outputId": "2fbd4315-50ea-4fb7-c98a-d974a41fac21"
      },
      "execution_count": 2,
      "outputs": [
        {
          "output_type": "execute_result",
          "data": {
            "text/plain": [
              "'The element is found in the index 3'"
            ],
            "application/vnd.google.colaboratory.intrinsic+json": {
              "type": "string"
            }
          },
          "metadata": {},
          "execution_count": 2
        }
      ]
    },
    {
      "cell_type": "code",
      "source": [
        "lsearch(box,100)"
      ],
      "metadata": {
        "colab": {
          "base_uri": "https://localhost:8080/",
          "height": 35
        },
        "id": "y0jH85iU1gF_",
        "outputId": "9f12b903-3577-48bb-a47c-b593cc5584ea"
      },
      "execution_count": 3,
      "outputs": [
        {
          "output_type": "execute_result",
          "data": {
            "text/plain": [
              "'The element is found in the index 5'"
            ],
            "application/vnd.google.colaboratory.intrinsic+json": {
              "type": "string"
            }
          },
          "metadata": {},
          "execution_count": 3
        }
      ]
    },
    {
      "cell_type": "code",
      "source": [
        "lsearch(box,55)"
      ],
      "metadata": {
        "id": "VVuNZslv1i_8",
        "outputId": "d7e6d821-0074-4131-9919-b03e009a3395",
        "colab": {
          "base_uri": "https://localhost:8080/",
          "height": 35
        }
      },
      "execution_count": 4,
      "outputs": [
        {
          "output_type": "execute_result",
          "data": {
            "text/plain": [
              "'The element is not in this array'"
            ],
            "application/vnd.google.colaboratory.intrinsic+json": {
              "type": "string"
            }
          },
          "metadata": {},
          "execution_count": 4
        }
      ]
    }
  ]
}