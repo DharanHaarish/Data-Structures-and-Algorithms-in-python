{
  "nbformat": 4,
  "nbformat_minor": 0,
  "metadata": {
    "colab": {
      "name": "Selection Sort.ipynb",
      "provenance": []
    },
    "kernelspec": {
      "name": "python3",
      "display_name": "Python 3"
    },
    "language_info": {
      "name": "python"
    }
  },
  "cells": [
    {
      "cell_type": "code",
      "execution_count": 17,
      "metadata": {
        "id": "u7lMqzi-iCGI"
      },
      "outputs": [],
      "source": [
        "def SelectionSort(x):\n",
        "\n",
        "  for i in range(len(x)-1): #Runs the Loop n-2 times\n",
        "    im = i\n",
        "    for j in range(i,len(x)): #Runs the Loop from the ith position because the numbers before i are sorted already\n",
        "      if (x[j]<x[im]):\n",
        "        im = j               # Finding the index which has the minimum value\n",
        "\n",
        "    x[im],x[i] = x[i],x[im] #Swap the minimum\n",
        "\n",
        "  return x"
      ]
    },
    {
      "cell_type": "code",
      "source": [
        "SelectionSort([2,5,1,23,90,94,62])"
      ],
      "metadata": {
        "colab": {
          "base_uri": "https://localhost:8080/"
        },
        "id": "b4IcsdEZlZat",
        "outputId": "b83279af-b60c-458a-ac2f-57112acc84d0"
      },
      "execution_count": 18,
      "outputs": [
        {
          "output_type": "execute_result",
          "data": {
            "text/plain": [
              "[1, 2, 5, 23, 62, 90, 94]"
            ]
          },
          "metadata": {},
          "execution_count": 18
        }
      ]
    },
    {
      "cell_type": "code",
      "source": [
        "SelectionSort([23,1,100,923,3482,1932])"
      ],
      "metadata": {
        "colab": {
          "base_uri": "https://localhost:8080/"
        },
        "id": "8dWhkR7eleVF",
        "outputId": "c930a0f6-cf19-4ba5-9134-8ffcbe82aeb9"
      },
      "execution_count": 19,
      "outputs": [
        {
          "output_type": "execute_result",
          "data": {
            "text/plain": [
              "[1, 23, 100, 923, 1932, 3482]"
            ]
          },
          "metadata": {},
          "execution_count": 19
        }
      ]
    }
  ]
}