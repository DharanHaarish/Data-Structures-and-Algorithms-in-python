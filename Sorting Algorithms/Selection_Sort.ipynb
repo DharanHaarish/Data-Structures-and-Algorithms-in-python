{
  "nbformat": 4,
  "nbformat_minor": 0,
  "metadata": {
    "colab": {
      "name": "Selection Sort.ipynb",
      "provenance": []
    },
    "kernelspec": {
      "name": "python3",
      "display_name": "Python 3"
    },
    "language_info": {
      "name": "python"
    }
  },
  "cells": [
    {
      "cell_type": "code",
      "execution_count": 14,
      "metadata": {
        "id": "u7lMqzi-iCGI"
      },
      "outputs": [],
      "source": [
        "def SelectionSort(x):\n",
        "  \n",
        "  for i in range(len(x)-1):\n",
        "    im = i\n",
        "    for j in range(i,len(x)):\n",
        "      if (x[j]<x[im]):\n",
        "        im = j\n",
        "\n",
        "    x[im],x[i] = x[i],x[im]\n",
        "\n",
        "  return x"
      ]
    },
    {
      "cell_type": "code",
      "source": [
        "SelectionSort([2,5,1,23,90,94,62])"
      ],
      "metadata": {
        "colab": {
          "base_uri": "https://localhost:8080/"
        },
        "id": "b4IcsdEZlZat",
        "outputId": "9736afef-730e-4f2e-b708-eec7ac89501a"
      },
      "execution_count": 15,
      "outputs": [
        {
          "output_type": "execute_result",
          "data": {
            "text/plain": [
              "[1, 2, 5, 23, 62, 90, 94]"
            ]
          },
          "metadata": {},
          "execution_count": 15
        }
      ]
    },
    {
      "cell_type": "code",
      "source": [
        "SelectionSort([23,1,100,923,3482,1932])"
      ],
      "metadata": {
        "colab": {
          "base_uri": "https://localhost:8080/"
        },
        "id": "8dWhkR7eleVF",
        "outputId": "e5c04ef0-a799-4e90-e779-19ba75bec34e"
      },
      "execution_count": 16,
      "outputs": [
        {
          "output_type": "execute_result",
          "data": {
            "text/plain": [
              "[1, 23, 100, 923, 1932, 3482]"
            ]
          },
          "metadata": {},
          "execution_count": 16
        }
      ]
    }
  ]
}