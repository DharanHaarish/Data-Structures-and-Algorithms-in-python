{
  "nbformat": 4,
  "nbformat_minor": 0,
  "metadata": {
    "colab": {
      "name": "Quick Sort.ipynb",
      "provenance": []
    },
    "kernelspec": {
      "name": "python3",
      "display_name": "Python 3"
    },
    "language_info": {
      "name": "python"
    }
  },
  "cells": [
    {
      "cell_type": "code",
      "execution_count": 29,
      "metadata": {
        "id": "b07AVPdPd06L"
      },
      "outputs": [],
      "source": [
        "def QuickSort(A,start,end):\n",
        "\n",
        "  if (start >= end):\n",
        "    return\n",
        "\n",
        "  def Partition(A,start,end):    #This Partition Scheme is based upon the Lomuto Partition Scheme\n",
        "\n",
        "    pivot = A[end]\n",
        "    pindex = start\n",
        "\n",
        "    for i in range(start,end):\n",
        "      if(A[i] < pivot):\n",
        "        A[i],A[pindex] = A[pindex],A[i]\n",
        "        pindex +=1\n",
        "    \n",
        "    A[pindex],A[end] = A[end],A[pindex]\n",
        "\n",
        "    return pindex\n",
        "\n",
        "\n",
        "  ipv = Partition(A,start,end)\n",
        "  QuickSort(A,start,ipv-1)\n",
        "  QuickSort(A,ipv+1,end)"
      ]
    },
    {
      "cell_type": "code",
      "source": [
        "Z = [2,5,1,3,78,65,3923,292,733,371,111,23123]\n",
        "QuickSort(Z,0,11)"
      ],
      "metadata": {
        "id": "DScP68lij9r0"
      },
      "execution_count": 30,
      "outputs": []
    },
    {
      "cell_type": "code",
      "source": [
        "Z"
      ],
      "metadata": {
        "colab": {
          "base_uri": "https://localhost:8080/"
        },
        "id": "UJ7wwr85kGjn",
        "outputId": "48ca7c3c-8e7c-460e-9563-1ee57d01e1b6"
      },
      "execution_count": 31,
      "outputs": [
        {
          "output_type": "execute_result",
          "data": {
            "text/plain": [
              "[1, 2, 3, 5, 65, 78, 111, 292, 371, 733, 3923, 23123]"
            ]
          },
          "metadata": {},
          "execution_count": 31
        }
      ]
    }
  ]
}