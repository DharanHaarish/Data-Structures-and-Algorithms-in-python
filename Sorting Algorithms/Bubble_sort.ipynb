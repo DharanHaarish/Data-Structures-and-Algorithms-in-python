{
  "nbformat": 4,
  "nbformat_minor": 0,
  "metadata": {
    "colab": {
      "name": "Bubble sort.ipynb",
      "provenance": []
    },
    "kernelspec": {
      "name": "python3",
      "display_name": "Python 3"
    },
    "language_info": {
      "name": "python"
    }
  },
  "cells": [
    {
      "cell_type": "code",
      "execution_count": 25,
      "metadata": {
        "id": "LR1mv58y5QrW"
      },
      "outputs": [],
      "source": [
        "def BubbleSort(x):\n",
        "  \n",
        "  for i in range(len(x)-1):\n",
        "    swap = 0                    #If this swap variable did not change for a loop then the list is already sorted \n",
        "\n",
        "    for j in range(len(x)-1-i): #Since the largest element is already pushed to the other part we don't have to run the loop till the end\n",
        "      if(x[j]>x[j+1]):\n",
        "        x[j],x[j+1] = x[j+1],x[j]\n",
        "        swap = 1\n",
        "\n",
        "    if (swap==0):\n",
        "      return(x)\n",
        "    \n",
        "  return(x)"
      ]
    },
    {
      "cell_type": "code",
      "source": [
        "BubbleSort([2,5,1,3,78,45,65])"
      ],
      "metadata": {
        "colab": {
          "base_uri": "https://localhost:8080/"
        },
        "id": "dk0kgReD5ttl",
        "outputId": "f743b34a-e4b5-4f48-9557-169ae09b360a"
      },
      "execution_count": 22,
      "outputs": [
        {
          "output_type": "execute_result",
          "data": {
            "text/plain": [
              "[1, 2, 3, 5, 45, 65, 78]"
            ]
          },
          "metadata": {},
          "execution_count": 22
        }
      ]
    },
    {
      "cell_type": "code",
      "source": [
        "BubbleSort([2,7,4,1,5,3])"
      ],
      "metadata": {
        "colab": {
          "base_uri": "https://localhost:8080/"
        },
        "id": "vY2ZmBcIt8Ay",
        "outputId": "3751037a-00da-4d17-9374-73a652dc123c"
      },
      "execution_count": 27,
      "outputs": [
        {
          "output_type": "execute_result",
          "data": {
            "text/plain": [
              "[1, 2, 3, 4, 5, 7]"
            ]
          },
          "metadata": {},
          "execution_count": 27
        }
      ]
    }
  ]
}