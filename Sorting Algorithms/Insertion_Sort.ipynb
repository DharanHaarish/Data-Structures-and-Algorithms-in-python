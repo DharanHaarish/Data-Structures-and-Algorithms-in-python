{
  "nbformat": 4,
  "nbformat_minor": 0,
  "metadata": {
    "colab": {
      "name": "Insertion_Sort.ipynb",
      "provenance": [],
      "collapsed_sections": []
    },
    "kernelspec": {
      "name": "python3",
      "display_name": "Python 3"
    },
    "language_info": {
      "name": "python"
    }
  },
  "cells": [
    {
      "cell_type": "code",
      "source": [
        "def InsertionSort(x):\n",
        "\n",
        "  for i in range(1,len(x)):  #Loop to run from the position 1\n",
        "    while(i>0 and x[i]<x[i-1]): #if the value in current index is less than previous index swap it and continue doing it\n",
        "      x[i],x[i-1] = x[i-1],x[i]\n",
        "      i = i-1\n",
        "\n",
        "  return(x)"
      ],
      "metadata": {
        "id": "iiuXv7mbx75z"
      },
      "execution_count": 1,
      "outputs": []
    },
    {
      "cell_type": "code",
      "source": [
        "InsertionSort([2,1,45,22,18,90])"
      ],
      "metadata": {
        "colab": {
          "base_uri": "https://localhost:8080/"
        },
        "id": "tPYMdOWYzH0Q",
        "outputId": "92d05639-c99a-4b64-cd53-4fd5e8e12df9"
      },
      "execution_count": 2,
      "outputs": [
        {
          "output_type": "execute_result",
          "data": {
            "text/plain": [
              "[1, 2, 18, 22, 45, 90]"
            ]
          },
          "metadata": {},
          "execution_count": 2
        }
      ]
    },
    {
      "cell_type": "code",
      "source": [
        "InsertionSort([21,1,9,8,64,33])"
      ],
      "metadata": {
        "colab": {
          "base_uri": "https://localhost:8080/"
        },
        "id": "O6a9_OkV6A88",
        "outputId": "5a7c247d-188d-4838-9b8c-7cc6ecb99937"
      },
      "execution_count": 3,
      "outputs": [
        {
          "output_type": "execute_result",
          "data": {
            "text/plain": [
              "[1, 8, 9, 21, 33, 64]"
            ]
          },
          "metadata": {},
          "execution_count": 3
        }
      ]
    }
  ]
}