{
  "nbformat": 4,
  "nbformat_minor": 0,
  "metadata": {
    "colab": {
      "name": "Merge Sort.ipynb",
      "provenance": [],
      "collapsed_sections": []
    },
    "kernelspec": {
      "name": "python3",
      "display_name": "Python 3"
    },
    "language_info": {
      "name": "python"
    }
  },
  "cells": [
    {
      "cell_type": "code",
      "source": [
        "def Merge_Sort(X):\n",
        "\n",
        "  def Merge(left,right,a):  #Function to Merge two Sorted Arrays\n",
        "\n",
        "    i = j = k = 0\n",
        "    len_l = len(left)\n",
        "    len_r = len(right)\n",
        "\n",
        "    while (i<len_l and j<len_r):\n",
        "      if(left[i] <= right[j]):\n",
        "        a[k] = left[i]\n",
        "        k +=1\n",
        "        i +=1\n",
        "\n",
        "      else:\n",
        "        a[k] = right[j]\n",
        "        k +=1\n",
        "        j +=1\n",
        "\n",
        "    while (i<len_l):\n",
        "      a[k] = left[i]\n",
        "      k +=1\n",
        "      i +=1\n",
        "\n",
        "    while (j<len_r):\n",
        "      a[k] = right[j]\n",
        "      k +=1\n",
        "      j +=1\n",
        "\n",
        "  \n",
        "  if (len(X)<=1):\n",
        "    return\n",
        "\n",
        "  mid = len(X)//2\n",
        "\n",
        "  l = X[:mid]\n",
        "  r = X[mid:]\n",
        "\n",
        "  Merge_Sort(l)        #Recursive calling the functions to divide the array into two halves\n",
        "  Merge_Sort(r)\n",
        "\n",
        "  Merge(l,r,X)       "
      ],
      "metadata": {
        "id": "OxNmKvqrKTbT"
      },
      "execution_count": 1,
      "outputs": []
    },
    {
      "cell_type": "code",
      "source": [
        "Arr = [9,2,6,17,2352,6,90]\n",
        "Merge_Sort(Arr)"
      ],
      "metadata": {
        "id": "mh8y3yMCNRmm"
      },
      "execution_count": 2,
      "outputs": []
    },
    {
      "cell_type": "code",
      "source": [
        "Arr"
      ],
      "metadata": {
        "colab": {
          "base_uri": "https://localhost:8080/"
        },
        "id": "77rJzFctNyi0",
        "outputId": "de810151-7d0d-47a7-f5da-fbd51ba60798"
      },
      "execution_count": 3,
      "outputs": [
        {
          "output_type": "execute_result",
          "data": {
            "text/plain": [
              "[2, 6, 6, 9, 17, 90, 2352]"
            ]
          },
          "metadata": {},
          "execution_count": 3
        }
      ]
    },
    {
      "cell_type": "code",
      "source": [
        "def Merge_Sort(X):\n",
        "\n",
        "  def Merge(left,right,a):  #Function to Merge two Sorted Arrays\n",
        "\n",
        "    i = j = k = 0\n",
        "    len_l = len(left)\n",
        "    len_r = len(right)\n",
        "\n",
        "    while (i<len_l and j<len_r):\n",
        "      if(left[i] >= right[j]):    #Changing the Condition in merging here will help to sort the array in descending order\n",
        "        a[k] = left[i]\n",
        "        k +=1\n",
        "        i +=1\n",
        "\n",
        "      else:\n",
        "        a[k] = right[j]\n",
        "        k +=1\n",
        "        j +=1\n",
        "\n",
        "    while (i<len_l):\n",
        "      a[k] = left[i]\n",
        "      k +=1\n",
        "      i +=1\n",
        "\n",
        "    while (j<len_r):\n",
        "      a[k] = right[j]\n",
        "      k +=1\n",
        "      j +=1\n",
        "\n",
        "  \n",
        "  if (len(X)<=1):\n",
        "    return\n",
        "\n",
        "  mid = len(X)//2\n",
        "\n",
        "  l = X[:mid]\n",
        "  r = X[mid:]\n",
        "\n",
        "  Merge_Sort(l)        #Recursive calling the functions to divide the array into two halves\n",
        "  Merge_Sort(r)\n",
        "\n",
        "  Merge(l,r,X)       "
      ],
      "metadata": {
        "id": "t9yJOIfUQiFY"
      },
      "execution_count": 4,
      "outputs": []
    },
    {
      "cell_type": "code",
      "source": [
        "Arr = [9,2,6,17,2352,6,90]\n",
        "Merge_Sort(Arr)"
      ],
      "metadata": {
        "id": "BrlidP5RQuFR"
      },
      "execution_count": 5,
      "outputs": []
    },
    {
      "cell_type": "code",
      "source": [
        "Arr"
      ],
      "metadata": {
        "colab": {
          "base_uri": "https://localhost:8080/"
        },
        "id": "nHx7sBQ2QvQY",
        "outputId": "db50ce30-38b1-4591-d511-e58d14603f4b"
      },
      "execution_count": 6,
      "outputs": [
        {
          "output_type": "execute_result",
          "data": {
            "text/plain": [
              "[2352, 90, 17, 9, 6, 6, 2]"
            ]
          },
          "metadata": {},
          "execution_count": 6
        }
      ]
    }
  ]
}