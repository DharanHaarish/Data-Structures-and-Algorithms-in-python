{
  "nbformat": 4,
  "nbformat_minor": 0,
  "metadata": {
    "colab": {
      "name": "Queue.ipynb",
      "provenance": []
    },
    "kernelspec": {
      "name": "python3",
      "display_name": "Python 3"
    },
    "language_info": {
      "name": "python"
    }
  },
  "cells": [
    {
      "cell_type": "code",
      "execution_count": 2,
      "metadata": {
        "id": "ffM9hmo7peHE"
      },
      "outputs": [],
      "source": [
        "food_names = []   #Implementation of queue with list\n",
        "food_names.append('Pizza')\n",
        "food_names.insert(0,'Burger')\n",
        "food_names.insert(0,'waffle')"
      ]
    },
    {
      "cell_type": "code",
      "source": [
        "food_names"
      ],
      "metadata": {
        "colab": {
          "base_uri": "https://localhost:8080/"
        },
        "id": "bynbX_Dsqj0l",
        "outputId": "060c35ca-4316-46e0-fe54-8f638b782775"
      },
      "execution_count": 3,
      "outputs": [
        {
          "output_type": "execute_result",
          "data": {
            "text/plain": [
              "['waffle', 'Burger', 'Pizza']"
            ]
          },
          "metadata": {},
          "execution_count": 3
        }
      ]
    },
    {
      "cell_type": "code",
      "source": [
        "food_names.pop()"
      ],
      "metadata": {
        "colab": {
          "base_uri": "https://localhost:8080/",
          "height": 35
        },
        "id": "DSQMPVd4qswp",
        "outputId": "461b9e5d-740e-44d5-bc6d-401c780cbf41"
      },
      "execution_count": 4,
      "outputs": [
        {
          "output_type": "execute_result",
          "data": {
            "text/plain": [
              "'Pizza'"
            ],
            "application/vnd.google.colaboratory.intrinsic+json": {
              "type": "string"
            }
          },
          "metadata": {},
          "execution_count": 4
        }
      ]
    },
    {
      "cell_type": "code",
      "source": [
        "from collections import deque"
      ],
      "metadata": {
        "id": "nkRrXHH0qump"
      },
      "execution_count": 5,
      "outputs": []
    },
    {
      "cell_type": "code",
      "source": [
        "q = deque()"
      ],
      "metadata": {
        "id": "80xlIki7q2PB"
      },
      "execution_count": 6,
      "outputs": []
    },
    {
      "cell_type": "code",
      "source": [
        "q.appendleft('Pizza')\n",
        "q.appendleft('Burger')\n",
        "q.appendleft('Waffle')"
      ],
      "metadata": {
        "id": "DPKwVnyzq5dc"
      },
      "execution_count": 7,
      "outputs": []
    },
    {
      "cell_type": "code",
      "source": [
        "q"
      ],
      "metadata": {
        "colab": {
          "base_uri": "https://localhost:8080/"
        },
        "id": "2CPEYwNfrDrc",
        "outputId": "db03401d-4538-4318-d3ca-367de23b3795"
      },
      "execution_count": 8,
      "outputs": [
        {
          "output_type": "execute_result",
          "data": {
            "text/plain": [
              "deque(['Waffle', 'Burger', 'Pizza'])"
            ]
          },
          "metadata": {},
          "execution_count": 8
        }
      ]
    },
    {
      "cell_type": "code",
      "source": [
        "q.pop()"
      ],
      "metadata": {
        "colab": {
          "base_uri": "https://localhost:8080/",
          "height": 35
        },
        "id": "t5HS5XkUrFG1",
        "outputId": "49fc941a-b6cd-4fde-8931-0ec84cba4d2d"
      },
      "execution_count": 9,
      "outputs": [
        {
          "output_type": "execute_result",
          "data": {
            "text/plain": [
              "'Pizza'"
            ],
            "application/vnd.google.colaboratory.intrinsic+json": {
              "type": "string"
            }
          },
          "metadata": {},
          "execution_count": 9
        }
      ]
    },
    {
      "cell_type": "code",
      "source": [
        "class Queue:\n",
        "\n",
        "  def __init__(self):\n",
        "    self.q = deque()\n",
        "\n",
        "  def enqueue(self,data):\n",
        "    self.q.appendleft(data)\n",
        "\n",
        "  def dequeue(self):\n",
        "    return(self.q.pop())\n",
        "\n",
        "  def size(self):\n",
        "    return(len(self.q))"
      ],
      "metadata": {
        "id": "O5DsKc2jrIsF"
      },
      "execution_count": 16,
      "outputs": []
    },
    {
      "cell_type": "code",
      "source": [
        "qu = Queue()"
      ],
      "metadata": {
        "id": "ZJNQ9PNHruLS"
      },
      "execution_count": 17,
      "outputs": []
    },
    {
      "cell_type": "code",
      "source": [
        "qu.enqueue('Pizza')\n",
        "qu.enqueue('Burger')\n",
        "qu.enqueue('Waffle')"
      ],
      "metadata": {
        "id": "m0RB7_nxr6Es"
      },
      "execution_count": 18,
      "outputs": []
    },
    {
      "cell_type": "code",
      "source": [
        "qu.dequeue()"
      ],
      "metadata": {
        "colab": {
          "base_uri": "https://localhost:8080/",
          "height": 35
        },
        "id": "oe5nPhdlsEjF",
        "outputId": "d875d12c-0257-4c7e-8aed-0b30da93cabf"
      },
      "execution_count": 19,
      "outputs": [
        {
          "output_type": "execute_result",
          "data": {
            "text/plain": [
              "'Pizza'"
            ],
            "application/vnd.google.colaboratory.intrinsic+json": {
              "type": "string"
            }
          },
          "metadata": {},
          "execution_count": 19
        }
      ]
    },
    {
      "cell_type": "code",
      "source": [
        "qu.size()"
      ],
      "metadata": {
        "colab": {
          "base_uri": "https://localhost:8080/"
        },
        "id": "3wa0qVATsGXH",
        "outputId": "f96d019c-7afc-4a1c-fcfd-492094d662fd"
      },
      "execution_count": 20,
      "outputs": [
        {
          "output_type": "execute_result",
          "data": {
            "text/plain": [
              "2"
            ]
          },
          "metadata": {},
          "execution_count": 20
        }
      ]
    },
    {
      "cell_type": "markdown",
      "source": [
        "**Using dequeue as Queue rather than using list has the same kind of advantage as using dequeue as Stacks rather than using list**"
      ],
      "metadata": {
        "id": "GKlOlN1rsZUP"
      }
    }
  ]
}