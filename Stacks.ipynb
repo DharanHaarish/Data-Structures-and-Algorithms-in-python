{
  "nbformat": 4,
  "nbformat_minor": 0,
  "metadata": {
    "colab": {
      "name": "Stacks.ipynb",
      "provenance": [],
      "collapsed_sections": []
    },
    "kernelspec": {
      "name": "python3",
      "display_name": "Python 3"
    },
    "language_info": {
      "name": "python"
    }
  },
  "cells": [
    {
      "cell_type": "code",
      "execution_count": 1,
      "metadata": {
        "id": "wEHVWm-9BDdC"
      },
      "outputs": [],
      "source": [
        "from collections import deque"
      ]
    },
    {
      "cell_type": "code",
      "source": [
        "class Stack:    # Implementation of Stack using deque module\n",
        "  def __init__(self):\n",
        "    self.box = deque()\n",
        "\n",
        "  def push(self,data):\n",
        "    self.box.append(data)\n",
        "\n",
        "  def pop(self):\n",
        "    return(self.box.pop())\n",
        "\n",
        "  def size(self):\n",
        "    return(self.box.__len__())"
      ],
      "metadata": {
        "id": "u7wovWauBL_t"
      },
      "execution_count": 2,
      "outputs": []
    },
    {
      "cell_type": "code",
      "source": [
        "stack = Stack()"
      ],
      "metadata": {
        "id": "IyPLMzfrBbd9"
      },
      "execution_count": 10,
      "outputs": []
    },
    {
      "cell_type": "code",
      "source": [
        "stack.push(\"Ironman\")\n",
        "stack.push(\"Hulk\")\n",
        "stack.push(\"Spiderman\")\n",
        "stack.push(\"Batman\")"
      ],
      "metadata": {
        "id": "15Cs-G8RDCM7"
      },
      "execution_count": 11,
      "outputs": []
    },
    {
      "cell_type": "code",
      "source": [
        "stack.pop()"
      ],
      "metadata": {
        "colab": {
          "base_uri": "https://localhost:8080/",
          "height": 35
        },
        "id": "Q2qkki9TDFs5",
        "outputId": "a244702a-ca3e-4af9-f252-aef295521d53"
      },
      "execution_count": 12,
      "outputs": [
        {
          "output_type": "execute_result",
          "data": {
            "text/plain": [
              "'Batman'"
            ],
            "application/vnd.google.colaboratory.intrinsic+json": {
              "type": "string"
            }
          },
          "metadata": {},
          "execution_count": 12
        }
      ]
    },
    {
      "cell_type": "code",
      "source": [
        "stack.size()"
      ],
      "metadata": {
        "colab": {
          "base_uri": "https://localhost:8080/"
        },
        "id": "6bmYv1C0DaDy",
        "outputId": "30eaede4-c119-4267-aa7e-69ff0da36d46"
      },
      "execution_count": 13,
      "outputs": [
        {
          "output_type": "execute_result",
          "data": {
            "text/plain": [
              "3"
            ]
          },
          "metadata": {},
          "execution_count": 13
        }
      ]
    },
    {
      "cell_type": "code",
      "source": [
        "class Stacklist:  # Implementation of Stack using list\n",
        "  def __init__(self):\n",
        "    self.box = list()\n",
        "\n",
        "  def push(self,data):\n",
        "    self.box.append(data)\n",
        "\n",
        "  def pop(self):\n",
        "    if (len(self.box) == 0):\n",
        "      print(\"The Stack is empty\")\n",
        "\n",
        "    else:\n",
        "      e = self.box.pop()\n",
        "      return(e)\n",
        "\n",
        "  def length(self):\n",
        "    return(len(self.box))"
      ],
      "metadata": {
        "id": "X0WrnmmrDdXE"
      },
      "execution_count": 23,
      "outputs": []
    },
    {
      "cell_type": "code",
      "source": [
        "s = Stacklist()\n",
        "\n",
        "s.push('Ironman')\n",
        "s.push('Superman')\n",
        "s.push('Hulk')"
      ],
      "metadata": {
        "id": "N6PGltBFeNme"
      },
      "execution_count": 24,
      "outputs": []
    },
    {
      "cell_type": "code",
      "source": [
        "s.length()"
      ],
      "metadata": {
        "colab": {
          "base_uri": "https://localhost:8080/"
        },
        "id": "_iPZKN41fVfM",
        "outputId": "d2d55ee0-cebe-4a94-a912-657579f1b86c"
      },
      "execution_count": 25,
      "outputs": [
        {
          "output_type": "execute_result",
          "data": {
            "text/plain": [
              "3"
            ]
          },
          "metadata": {},
          "execution_count": 25
        }
      ]
    },
    {
      "cell_type": "code",
      "source": [
        "s.pop()"
      ],
      "metadata": {
        "colab": {
          "base_uri": "https://localhost:8080/",
          "height": 35
        },
        "id": "t0uOhZYhedBt",
        "outputId": "813d792a-59aa-4caf-8361-972c49bc3832"
      },
      "execution_count": 19,
      "outputs": [
        {
          "output_type": "execute_result",
          "data": {
            "text/plain": [
              "'Hulk'"
            ],
            "application/vnd.google.colaboratory.intrinsic+json": {
              "type": "string"
            }
          },
          "metadata": {},
          "execution_count": 19
        }
      ]
    },
    {
      "cell_type": "markdown",
      "source": [
        "# **Using deque is better than using list for Implementing Stack as Lists are optimized to do operations for fixed length operation and deque gives us the ability to pop and append from both sides in approxiamately O(1).**"
      ],
      "metadata": {
        "id": "JxNVevYZfvkk"
      }
    }
  ]
}