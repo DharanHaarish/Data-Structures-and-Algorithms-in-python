{
  "nbformat": 4,
  "nbformat_minor": 0,
  "metadata": {
    "colab": {
      "name": "Linkedlist.ipynb",
      "provenance": [],
      "collapsed_sections": []
    },
    "kernelspec": {
      "name": "python3",
      "display_name": "Python 3"
    },
    "language_info": {
      "name": "python"
    }
  },
  "cells": [
    {
      "cell_type": "code",
      "execution_count": 65,
      "metadata": {
        "id": "Ox7ainshXr7P"
      },
      "outputs": [],
      "source": [
        "class Node:\n",
        "  def __init__(self,data):\n",
        "    self.data = data\n",
        "    self.next = None"
      ]
    },
    {
      "cell_type": "code",
      "source": [
        "class LinkedList:\n",
        "  def __init__(self):\n",
        "    self.head = None\n",
        "\n",
        "  def insert(self,data):\n",
        "    Newnode = Node(data)\n",
        "\n",
        "    if self.head is None:\n",
        "      self.head = Newnode\n",
        "\n",
        "    else:\n",
        "      lastNode = self.head\n",
        "      while lastNode.next is not None:\n",
        "        lastNode = lastNode.next\n",
        "      lastNode.next = Newnode\n",
        "\n",
        "  def print(self):\n",
        "    if self.head is None:\n",
        "      print('The List is empty')\n",
        "      return\n",
        "\n",
        "    lastNode = self.head\n",
        "    while lastNode is not None:      \n",
        "      print(lastNode.data)\n",
        "      lastNode = lastNode.next\n",
        "\n",
        "  \n",
        "  def insert_at_beginning(self,data):\n",
        "    Newnode = Node(data)\n",
        "\n",
        "    if self.head is None:\n",
        "      self.insert(Newnode)\n",
        "\n",
        "    else:\n",
        "      Newnode.next = self.head\n",
        "      self.head = Newnode\n",
        "\n",
        "  \n",
        "  def get_len(self):\n",
        "    if self.head is None:\n",
        "      print(\"List is empty\")\n",
        "      return\n",
        "\n",
        "    count = 1\n",
        "    crnode = self.head\n",
        "\n",
        "    while crnode.next is not None:\n",
        "      count += 1\n",
        "      crnode = crnode.next        \n",
        "\n",
        "    return count\n",
        "\n",
        "  def delete_at(self,index):\n",
        "\n",
        "    itrnode = self.head\n",
        "    if (index == 0):\n",
        "      self.head = itrnode.next\n",
        "      itrnode.next = None\n",
        "      return\n",
        "\n",
        "    elif(index<0 or index>(self.get_len() - 1)):\n",
        "      print(\"Invalid Index\")\n",
        "      return\n",
        "      \n",
        "    prnode = itrnode\n",
        "    idx = 0\n",
        "    while True:\n",
        "      if (idx == index):\n",
        "        prnode.next = itrnode.next\n",
        "        itrnode.next = None\n",
        "        break\n",
        "      prnode = itrnode\n",
        "      itrnode = itrnode.next\n",
        "      idx +=1\n",
        "\n",
        "  def insert_at(self,data,index):\n",
        "    \n",
        "    if index<0 or index > self.get_len():\n",
        "      print(\"Invalid Index\")\n",
        "      return\n",
        "    \n",
        "    elif(index==0):\n",
        "      self.insert_at_beginning(data)\n",
        "\n",
        "    elif(index==self.get_len):\n",
        "      self.insert(data)\n",
        "\n",
        "    idx=0\n",
        "    itrnode = self.head\n",
        "    while True:\n",
        "      if (idx == (index-1)):\n",
        "        newNode = Node(data)\n",
        "        newNode.next = itrnode.next\n",
        "        itrnode.next = newNode\n",
        "        break\n",
        "\n",
        "      itrnode = itrnode.next\n",
        "      idx +=1"
      ],
      "metadata": {
        "id": "OE2IYI6VdN7k"
      },
      "execution_count": 82,
      "outputs": []
    },
    {
      "cell_type": "code",
      "source": [
        "name = LinkedList()\n",
        "\n",
        "name.insert('Pizza')\n",
        "name.insert('Burger')\n",
        "name.insert('Cake')\n",
        "\n",
        "name.print()"
      ],
      "metadata": {
        "colab": {
          "base_uri": "https://localhost:8080/"
        },
        "id": "8BAsZJNtjDZu",
        "outputId": "dffb971b-694b-460c-9fd9-d5f03739c5c0"
      },
      "execution_count": 83,
      "outputs": [
        {
          "output_type": "stream",
          "name": "stdout",
          "text": [
            "Pizza\n",
            "Burger\n",
            "Cake\n"
          ]
        }
      ]
    },
    {
      "cell_type": "code",
      "source": [
        "name.delete_at(2)\n",
        "name.print()"
      ],
      "metadata": {
        "colab": {
          "base_uri": "https://localhost:8080/"
        },
        "id": "dsySL8fleYJk",
        "outputId": "0f5e8961-48e7-4c3c-e148-6253e96f6bd4"
      },
      "execution_count": 84,
      "outputs": [
        {
          "output_type": "stream",
          "name": "stdout",
          "text": [
            "Pizza\n",
            "Burger\n"
          ]
        }
      ]
    },
    {
      "cell_type": "code",
      "source": [
        "name.insert_at_beginning('Fast_Foods')\n",
        "name.insert_at('Pani_puri',1)\n",
        "name.print()"
      ],
      "metadata": {
        "colab": {
          "base_uri": "https://localhost:8080/"
        },
        "id": "X5VOTg-4W6H9",
        "outputId": "179ed516-a467-49c9-912f-20eb82f7c61e"
      },
      "execution_count": 85,
      "outputs": [
        {
          "output_type": "stream",
          "name": "stdout",
          "text": [
            "Fast_Foods\n",
            "Pani_puri\n",
            "Pizza\n",
            "Burger\n"
          ]
        }
      ]
    },
    {
      "cell_type": "code",
      "source": [
        "name.delete_at(0)\n",
        "name.print()"
      ],
      "metadata": {
        "colab": {
          "base_uri": "https://localhost:8080/"
        },
        "id": "ThdyjwG5ks_e",
        "outputId": "a9602b47-4033-46f0-a2c5-96631d670671"
      },
      "execution_count": 86,
      "outputs": [
        {
          "output_type": "stream",
          "name": "stdout",
          "text": [
            "Pani_puri\n",
            "Pizza\n",
            "Burger\n"
          ]
        }
      ]
    },
    {
      "cell_type": "code",
      "source": [
        "name.delete_at(3)"
      ],
      "metadata": {
        "colab": {
          "base_uri": "https://localhost:8080/"
        },
        "id": "eqFIA9TdhcSs",
        "outputId": "d6daa7b3-377f-4061-d69c-6f0c9f022574"
      },
      "execution_count": 89,
      "outputs": [
        {
          "output_type": "stream",
          "name": "stdout",
          "text": [
            "Invalid Index\n"
          ]
        }
      ]
    },
    {
      "cell_type": "code",
      "source": [
        "name.print()"
      ],
      "metadata": {
        "colab": {
          "base_uri": "https://localhost:8080/"
        },
        "id": "r2Ub1Myig_ZT",
        "outputId": "e80a5911-2b71-4b3e-d5df-093688815636"
      },
      "execution_count": 90,
      "outputs": [
        {
          "output_type": "stream",
          "name": "stdout",
          "text": [
            "Pani_puri\n",
            "Pizza\n",
            "Burger\n"
          ]
        }
      ]
    },
    {
      "cell_type": "code",
      "source": [
        "name.insert_at('Chola_puri',4)"
      ],
      "metadata": {
        "colab": {
          "base_uri": "https://localhost:8080/"
        },
        "id": "T7hFUpTAAiSF",
        "outputId": "595d95c8-d389-4688-a0b6-d8896d9dfa8f"
      },
      "execution_count": 91,
      "outputs": [
        {
          "output_type": "stream",
          "name": "stdout",
          "text": [
            "Invalid Index\n"
          ]
        }
      ]
    },
    {
      "cell_type": "code",
      "source": [
        "name.get_len()"
      ],
      "metadata": {
        "colab": {
          "base_uri": "https://localhost:8080/"
        },
        "id": "x5pVkEFaQqQL",
        "outputId": "758a7e7e-7af9-4426-f7c0-2199204c8ebc"
      },
      "execution_count": 92,
      "outputs": [
        {
          "output_type": "execute_result",
          "data": {
            "text/plain": [
              "3"
            ]
          },
          "metadata": {},
          "execution_count": 92
        }
      ]
    },
    {
      "cell_type": "code",
      "source": [
        "ns = LinkedList()\n",
        "ns.get_len()"
      ],
      "metadata": {
        "colab": {
          "base_uri": "https://localhost:8080/"
        },
        "id": "J3XZbLi5FpSC",
        "outputId": "45ca320e-3dcc-4c57-c6c7-2e9db3ee109c"
      },
      "execution_count": 93,
      "outputs": [
        {
          "output_type": "stream",
          "name": "stdout",
          "text": [
            "List is empty\n"
          ]
        }
      ]
    }
  ]
}